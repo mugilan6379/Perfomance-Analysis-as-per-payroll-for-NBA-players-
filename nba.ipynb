{
  "cells": [
    {
      "cell_type": "code",
      "execution_count": null,
      "id": "9e8dc43f-6931-4be5-8ed5-6ef30c431e36",
      "metadata": {
        "id": "9e8dc43f-6931-4be5-8ed5-6ef30c431e36",
        "outputId": "cbbf09f1-ed8c-45f0-9fce-5a361165052f"
      },
      "outputs": [
        {
          "name": "stdout",
          "output_type": "stream",
          "text": [
            "Requirement already satisfied: pandas in ./.venv/lib/python3.11/site-packages (2.2.3)\n",
            "Requirement already satisfied: openpyxl in ./.venv/lib/python3.11/site-packages (3.1.5)\n",
            "Requirement already satisfied: numpy>=1.23.2 in ./.venv/lib/python3.11/site-packages (from pandas) (2.1.2)\n",
            "Requirement already satisfied: python-dateutil>=2.8.2 in ./.venv/lib/python3.11/site-packages (from pandas) (2.9.0.post0)\n",
            "Requirement already satisfied: pytz>=2020.1 in ./.venv/lib/python3.11/site-packages (from pandas) (2024.2)\n",
            "Requirement already satisfied: tzdata>=2022.7 in ./.venv/lib/python3.11/site-packages (from pandas) (2024.2)\n",
            "Requirement already satisfied: et-xmlfile in ./.venv/lib/python3.11/site-packages (from openpyxl) (1.1.0)\n",
            "Requirement already satisfied: six>=1.5 in ./.venv/lib/python3.11/site-packages (from python-dateutil>=2.8.2->pandas) (1.16.0)\n",
            "Note: you may need to restart the kernel to use updated packages.\n"
          ]
        }
      ],
      "source": [
        "pip install pandas openpyxl"
      ]
    },
    {
      "cell_type": "code",
      "execution_count": null,
      "id": "e4288316-33a3-4caa-96c5-77deee379023",
      "metadata": {
        "id": "e4288316-33a3-4caa-96c5-77deee379023",
        "outputId": "f658cb45-a644-4fc1-82b2-6613cc3b5f71"
      },
      "outputs": [
        {
          "name": "stdout",
          "output_type": "stream",
          "text": [
            "Requirement already satisfied: scikit-learn in ./.venv/lib/python3.11/site-packages (1.5.2)\n",
            "Requirement already satisfied: numpy>=1.19.5 in ./.venv/lib/python3.11/site-packages (from scikit-learn) (2.1.2)\n",
            "Requirement already satisfied: scipy>=1.6.0 in ./.venv/lib/python3.11/site-packages (from scikit-learn) (1.14.1)\n",
            "Requirement already satisfied: joblib>=1.2.0 in ./.venv/lib/python3.11/site-packages (from scikit-learn) (1.4.2)\n",
            "Requirement already satisfied: threadpoolctl>=3.1.0 in ./.venv/lib/python3.11/site-packages (from scikit-learn) (3.5.0)\n"
          ]
        }
      ],
      "source": [
        "!pip install scikit-learn"
      ]
    },
    {
      "cell_type": "code",
      "execution_count": 119,
      "id": "7b22e80c-ad92-4ea4-9bb9-9b91662e7273",
      "metadata": {
        "id": "7b22e80c-ad92-4ea4-9bb9-9b91662e7273"
      },
      "outputs": [],
      "source": [
        "import pandas as pd\n",
        "import numpy as np"
      ]
    },
    {
      "cell_type": "code",
      "execution_count": 120,
      "id": "dee6f301-707d-4e0d-a068-5227de606cfd",
      "metadata": {
        "id": "dee6f301-707d-4e0d-a068-5227de606cfd"
      },
      "outputs": [],
      "source": [
        "# load datasets\n",
        "player_game_data = pd.read_csv('./player_game_data.csv')  # Use read_csv for CSV files\n",
        "team_game_data = pd.read_csv('./team_game_data.csv')      # Use read_csv for CSV files\n",
        "contract_data = pd.read_csv('./nba_spotrac_data.csv')"
      ]
    },
    {
      "cell_type": "code",
      "execution_count": 121,
      "id": "b133de43-feb2-4ac8-863e-6ac0032b1e67",
      "metadata": {
        "id": "b133de43-feb2-4ac8-863e-6ac0032b1e67"
      },
      "outputs": [],
      "source": [
        "# clean contract data (remove $ symbols and commas from cap_hit, handle missing data)\n",
        "\n",
        "contract_data['cap_hit'] = pd.to_numeric(\n",
        "    contract_data['cap_hit'].replace({'\\$': '', ',': '', '-': None}, regex=True),\n",
        "    errors='coerce'\n",
        ")"
      ]
    },
    {
      "cell_type": "code",
      "execution_count": 122,
      "id": "2f082cf6-c00d-4922-8ed8-88d88ef5f9cc",
      "metadata": {
        "id": "2f082cf6-c00d-4922-8ed8-88d88ef5f9cc"
      },
      "outputs": [
        {
          "data": {
            "text/html": [
              "<div>\n",
              "<style scoped>\n",
              "    .dataframe tbody tr th:only-of-type {\n",
              "        vertical-align: middle;\n",
              "    }\n",
              "\n",
              "    .dataframe tbody tr th {\n",
              "        vertical-align: top;\n",
              "    }\n",
              "\n",
              "    .dataframe thead th {\n",
              "        text-align: right;\n",
              "    }\n",
              "</style>\n",
              "<table border=\"1\" class=\"dataframe\">\n",
              "  <thead>\n",
              "    <tr style=\"text-align: right;\">\n",
              "      <th></th>\n",
              "      <th>team</th>\n",
              "      <th>year</th>\n",
              "      <th>total_team_payroll</th>\n",
              "    </tr>\n",
              "  </thead>\n",
              "  <tbody>\n",
              "    <tr>\n",
              "      <th>0</th>\n",
              "      <td>atlanta hawks</td>\n",
              "      <td>2011</td>\n",
              "      <td>71453928.0</td>\n",
              "    </tr>\n",
              "    <tr>\n",
              "      <th>1</th>\n",
              "      <td>atlanta hawks</td>\n",
              "      <td>2012</td>\n",
              "      <td>63620146.0</td>\n",
              "    </tr>\n",
              "    <tr>\n",
              "      <th>2</th>\n",
              "      <td>atlanta hawks</td>\n",
              "      <td>2013</td>\n",
              "      <td>55517146.0</td>\n",
              "    </tr>\n",
              "    <tr>\n",
              "      <th>3</th>\n",
              "      <td>atlanta hawks</td>\n",
              "      <td>2014</td>\n",
              "      <td>57245276.0</td>\n",
              "    </tr>\n",
              "    <tr>\n",
              "      <th>4</th>\n",
              "      <td>atlanta hawks</td>\n",
              "      <td>2015</td>\n",
              "      <td>71332945.0</td>\n",
              "    </tr>\n",
              "    <tr>\n",
              "      <th>...</th>\n",
              "      <td>...</td>\n",
              "      <td>...</td>\n",
              "      <td>...</td>\n",
              "    </tr>\n",
              "    <tr>\n",
              "      <th>413</th>\n",
              "      <td>washington wizards</td>\n",
              "      <td>2020</td>\n",
              "      <td>125335449.0</td>\n",
              "    </tr>\n",
              "    <tr>\n",
              "      <th>414</th>\n",
              "      <td>washington wizards</td>\n",
              "      <td>2021</td>\n",
              "      <td>125963635.0</td>\n",
              "    </tr>\n",
              "    <tr>\n",
              "      <th>415</th>\n",
              "      <td>washington wizards</td>\n",
              "      <td>2022</td>\n",
              "      <td>133790093.0</td>\n",
              "    </tr>\n",
              "    <tr>\n",
              "      <th>416</th>\n",
              "      <td>washington wizards</td>\n",
              "      <td>2023</td>\n",
              "      <td>132379717.0</td>\n",
              "    </tr>\n",
              "    <tr>\n",
              "      <th>417</th>\n",
              "      <td>washington wizards</td>\n",
              "      <td>2024</td>\n",
              "      <td>160474660.0</td>\n",
              "    </tr>\n",
              "  </tbody>\n",
              "</table>\n",
              "<p>418 rows × 3 columns</p>\n",
              "</div>"
            ],
            "text/plain": [
              "                   team  year  total_team_payroll\n",
              "0         atlanta hawks  2011          71453928.0\n",
              "1         atlanta hawks  2012          63620146.0\n",
              "2         atlanta hawks  2013          55517146.0\n",
              "3         atlanta hawks  2014          57245276.0\n",
              "4         atlanta hawks  2015          71332945.0\n",
              "..                  ...   ...                 ...\n",
              "413  washington wizards  2020         125335449.0\n",
              "414  washington wizards  2021         125963635.0\n",
              "415  washington wizards  2022         133790093.0\n",
              "416  washington wizards  2023         132379717.0\n",
              "417  washington wizards  2024         160474660.0\n",
              "\n",
              "[418 rows x 3 columns]"
            ]
          },
          "execution_count": 122,
          "metadata": {},
          "output_type": "execute_result"
        }
      ],
      "source": [
        "# aggregate payroll by team and year\n",
        "team_payroll = contract_data.groupby(['team', 'year']).agg({'cap_hit': 'sum'}).reset_index()\n",
        "team_payroll.rename(columns={'cap_hit': 'total_team_payroll'}, inplace=True)\n",
        "team_payroll"
      ]
    },
    {
      "cell_type": "code",
      "execution_count": 123,
      "id": "3830b2a3-f2d1-4637-a442-b709290c8874",
      "metadata": {
        "id": "3830b2a3-f2d1-4637-a442-b709290c8874"
      },
      "outputs": [],
      "source": [
        "# standardize team names by converting to lowercase and removing extra spaces\n",
        "player_game_data['team_name'] = player_game_data['team_name'].str.lower().str.strip()\n",
        "team_payroll['team'] = team_payroll['team'].str.lower().str.strip()"
      ]
    },
    {
      "cell_type": "code",
      "execution_count": 124,
      "id": "705e58e3-e8e4-42a2-9555-49b442bf41c0",
      "metadata": {
        "id": "705e58e3-e8e4-42a2-9555-49b442bf41c0"
      },
      "outputs": [],
      "source": [
        "# filter year (can be changed later)\n",
        "recent_seasons = [2023]\n",
        "player_game_data = player_game_data[player_game_data['season'].isin(recent_seasons)]\n",
        "team_game_data = team_game_data[team_game_data['season'].isin(recent_seasons)]"
      ]
    },
    {
      "cell_type": "code",
      "execution_count": 125,
      "id": "79af3c83-e904-4e68-99b8-7930408b57c4",
      "metadata": {
        "id": "79af3c83-e904-4e68-99b8-7930408b57c4"
      },
      "outputs": [],
      "source": [
        "# player_game_data = player_game_data.sample(n=50000, random_state=42)"
      ]
    },
    {
      "cell_type": "code",
      "execution_count": 126,
      "id": "f26aba7a-b3ea-486a-9162-24668395e300",
      "metadata": {
        "id": "f26aba7a-b3ea-486a-9162-24668395e300",
        "outputId": "6ea15bc2-1993-4c46-f233-503ca9b6e109"
      },
      "outputs": [
        {
          "name": "stdout",
          "output_type": "stream",
          "text": [
            "Player Game Data: (43395, 59)\n",
            "Team Game Data: (2460, 41)\n",
            "Contract Data: (6747, 8)\n"
          ]
        }
      ],
      "source": [
        "print(f\"Player Game Data: {player_game_data.shape}\")\n",
        "print(f\"Team Game Data: {team_game_data.shape}\")\n",
        "print(f\"Contract Data: {contract_data.shape}\")\n"
      ]
    },
    {
      "cell_type": "code",
      "execution_count": 127,
      "id": "7190ee0c-9e58-4369-92c9-8148227d50da",
      "metadata": {
        "id": "7190ee0c-9e58-4369-92c9-8148227d50da"
      },
      "outputs": [
        {
          "data": {
            "text/html": [
              "<div>\n",
              "<style scoped>\n",
              "    .dataframe tbody tr th:only-of-type {\n",
              "        vertical-align: middle;\n",
              "    }\n",
              "\n",
              "    .dataframe tbody tr th {\n",
              "        vertical-align: top;\n",
              "    }\n",
              "\n",
              "    .dataframe thead th {\n",
              "        text-align: right;\n",
              "    }\n",
              "</style>\n",
              "<table border=\"1\" class=\"dataframe\">\n",
              "  <thead>\n",
              "    <tr style=\"text-align: right;\">\n",
              "      <th></th>\n",
              "      <th>nbagameid_player</th>\n",
              "      <th>gamedate_player</th>\n",
              "      <th>season_player</th>\n",
              "      <th>gametype_player</th>\n",
              "      <th>nbapersonid</th>\n",
              "      <th>player_name</th>\n",
              "      <th>nbateamid</th>\n",
              "      <th>team</th>\n",
              "      <th>team_name</th>\n",
              "      <th>opposingnbateamid</th>\n",
              "      <th>...</th>\n",
              "      <th>turnovers_team</th>\n",
              "      <th>blocksagainst_team</th>\n",
              "      <th>defensivefouls_team</th>\n",
              "      <th>offensivefouls_team</th>\n",
              "      <th>shootingfoulsdrawn_team</th>\n",
              "      <th>possessions</th>\n",
              "      <th>points_team</th>\n",
              "      <th>shotattempts_team</th>\n",
              "      <th>andones_team</th>\n",
              "      <th>shotattemptpoints_team</th>\n",
              "    </tr>\n",
              "  </thead>\n",
              "  <tbody>\n",
              "    <tr>\n",
              "      <th>0</th>\n",
              "      <td>22300184</td>\n",
              "      <td>2023-11-12</td>\n",
              "      <td>2023</td>\n",
              "      <td>2</td>\n",
              "      <td>1626196</td>\n",
              "      <td>Josh Richardson</td>\n",
              "      <td>1610612748</td>\n",
              "      <td>MIA</td>\n",
              "      <td>miami heat</td>\n",
              "      <td>1610612759</td>\n",
              "      <td>...</td>\n",
              "      <td>21</td>\n",
              "      <td>4</td>\n",
              "      <td>15</td>\n",
              "      <td>5</td>\n",
              "      <td>8</td>\n",
              "      <td>100</td>\n",
              "      <td>121</td>\n",
              "      <td>86</td>\n",
              "      <td>2</td>\n",
              "      <td>121</td>\n",
              "    </tr>\n",
              "    <tr>\n",
              "      <th>1</th>\n",
              "      <td>22300184</td>\n",
              "      <td>2023-11-12</td>\n",
              "      <td>2023</td>\n",
              "      <td>2</td>\n",
              "      <td>1626196</td>\n",
              "      <td>Josh Richardson</td>\n",
              "      <td>1610612748</td>\n",
              "      <td>MIA</td>\n",
              "      <td>miami heat</td>\n",
              "      <td>1610612759</td>\n",
              "      <td>...</td>\n",
              "      <td>7</td>\n",
              "      <td>13</td>\n",
              "      <td>21</td>\n",
              "      <td>2</td>\n",
              "      <td>11</td>\n",
              "      <td>95</td>\n",
              "      <td>103</td>\n",
              "      <td>101</td>\n",
              "      <td>2</td>\n",
              "      <td>97</td>\n",
              "    </tr>\n",
              "    <tr>\n",
              "      <th>2</th>\n",
              "      <td>22300184</td>\n",
              "      <td>2023-11-12</td>\n",
              "      <td>2023</td>\n",
              "      <td>2</td>\n",
              "      <td>1626196</td>\n",
              "      <td>Josh Richardson</td>\n",
              "      <td>1610612748</td>\n",
              "      <td>MIA</td>\n",
              "      <td>miami heat</td>\n",
              "      <td>1610612759</td>\n",
              "      <td>...</td>\n",
              "      <td>17</td>\n",
              "      <td>8</td>\n",
              "      <td>20</td>\n",
              "      <td>1</td>\n",
              "      <td>10</td>\n",
              "      <td>90</td>\n",
              "      <td>99</td>\n",
              "      <td>89</td>\n",
              "      <td>4</td>\n",
              "      <td>94</td>\n",
              "    </tr>\n",
              "    <tr>\n",
              "      <th>3</th>\n",
              "      <td>22300184</td>\n",
              "      <td>2023-11-12</td>\n",
              "      <td>2023</td>\n",
              "      <td>2</td>\n",
              "      <td>1626196</td>\n",
              "      <td>Josh Richardson</td>\n",
              "      <td>1610612748</td>\n",
              "      <td>MIA</td>\n",
              "      <td>miami heat</td>\n",
              "      <td>1610612759</td>\n",
              "      <td>...</td>\n",
              "      <td>10</td>\n",
              "      <td>3</td>\n",
              "      <td>17</td>\n",
              "      <td>0</td>\n",
              "      <td>12</td>\n",
              "      <td>95</td>\n",
              "      <td>115</td>\n",
              "      <td>93</td>\n",
              "      <td>3</td>\n",
              "      <td>113</td>\n",
              "    </tr>\n",
              "    <tr>\n",
              "      <th>4</th>\n",
              "      <td>22300184</td>\n",
              "      <td>2023-11-12</td>\n",
              "      <td>2023</td>\n",
              "      <td>2</td>\n",
              "      <td>1626196</td>\n",
              "      <td>Josh Richardson</td>\n",
              "      <td>1610612748</td>\n",
              "      <td>MIA</td>\n",
              "      <td>miami heat</td>\n",
              "      <td>1610612759</td>\n",
              "      <td>...</td>\n",
              "      <td>7</td>\n",
              "      <td>8</td>\n",
              "      <td>13</td>\n",
              "      <td>1</td>\n",
              "      <td>6</td>\n",
              "      <td>96</td>\n",
              "      <td>112</td>\n",
              "      <td>94</td>\n",
              "      <td>1</td>\n",
              "      <td>106</td>\n",
              "    </tr>\n",
              "    <tr>\n",
              "      <th>...</th>\n",
              "      <td>...</td>\n",
              "      <td>...</td>\n",
              "      <td>...</td>\n",
              "      <td>...</td>\n",
              "      <td>...</td>\n",
              "      <td>...</td>\n",
              "      <td>...</td>\n",
              "      <td>...</td>\n",
              "      <td>...</td>\n",
              "      <td>...</td>\n",
              "      <td>...</td>\n",
              "      <td>...</td>\n",
              "      <td>...</td>\n",
              "      <td>...</td>\n",
              "      <td>...</td>\n",
              "      <td>...</td>\n",
              "      <td>...</td>\n",
              "      <td>...</td>\n",
              "      <td>...</td>\n",
              "      <td>...</td>\n",
              "      <td>...</td>\n",
              "    </tr>\n",
              "    <tr>\n",
              "      <th>3558385</th>\n",
              "      <td>22301187</td>\n",
              "      <td>2024-04-14</td>\n",
              "      <td>2023</td>\n",
              "      <td>2</td>\n",
              "      <td>1631121</td>\n",
              "      <td>Bryce McGowens</td>\n",
              "      <td>1610612766</td>\n",
              "      <td>CHA</td>\n",
              "      <td>charlotte hornets</td>\n",
              "      <td>1610612739</td>\n",
              "      <td>...</td>\n",
              "      <td>17</td>\n",
              "      <td>6</td>\n",
              "      <td>14</td>\n",
              "      <td>3</td>\n",
              "      <td>7</td>\n",
              "      <td>104</td>\n",
              "      <td>106</td>\n",
              "      <td>97</td>\n",
              "      <td>2</td>\n",
              "      <td>104</td>\n",
              "    </tr>\n",
              "    <tr>\n",
              "      <th>3558386</th>\n",
              "      <td>22301187</td>\n",
              "      <td>2024-04-14</td>\n",
              "      <td>2023</td>\n",
              "      <td>2</td>\n",
              "      <td>1631121</td>\n",
              "      <td>Bryce McGowens</td>\n",
              "      <td>1610612766</td>\n",
              "      <td>CHA</td>\n",
              "      <td>charlotte hornets</td>\n",
              "      <td>1610612739</td>\n",
              "      <td>...</td>\n",
              "      <td>7</td>\n",
              "      <td>11</td>\n",
              "      <td>17</td>\n",
              "      <td>0</td>\n",
              "      <td>7</td>\n",
              "      <td>99</td>\n",
              "      <td>100</td>\n",
              "      <td>104</td>\n",
              "      <td>3</td>\n",
              "      <td>96</td>\n",
              "    </tr>\n",
              "    <tr>\n",
              "      <th>3558387</th>\n",
              "      <td>22301187</td>\n",
              "      <td>2024-04-14</td>\n",
              "      <td>2023</td>\n",
              "      <td>2</td>\n",
              "      <td>1631121</td>\n",
              "      <td>Bryce McGowens</td>\n",
              "      <td>1610612766</td>\n",
              "      <td>CHA</td>\n",
              "      <td>charlotte hornets</td>\n",
              "      <td>1610612739</td>\n",
              "      <td>...</td>\n",
              "      <td>13</td>\n",
              "      <td>6</td>\n",
              "      <td>19</td>\n",
              "      <td>2</td>\n",
              "      <td>8</td>\n",
              "      <td>97</td>\n",
              "      <td>122</td>\n",
              "      <td>93</td>\n",
              "      <td>4</td>\n",
              "      <td>114</td>\n",
              "    </tr>\n",
              "    <tr>\n",
              "      <th>3558388</th>\n",
              "      <td>22301187</td>\n",
              "      <td>2024-04-14</td>\n",
              "      <td>2023</td>\n",
              "      <td>2</td>\n",
              "      <td>1631121</td>\n",
              "      <td>Bryce McGowens</td>\n",
              "      <td>1610612766</td>\n",
              "      <td>CHA</td>\n",
              "      <td>charlotte hornets</td>\n",
              "      <td>1610612739</td>\n",
              "      <td>...</td>\n",
              "      <td>19</td>\n",
              "      <td>7</td>\n",
              "      <td>11</td>\n",
              "      <td>4</td>\n",
              "      <td>6</td>\n",
              "      <td>97</td>\n",
              "      <td>84</td>\n",
              "      <td>91</td>\n",
              "      <td>3</td>\n",
              "      <td>82</td>\n",
              "    </tr>\n",
              "    <tr>\n",
              "      <th>3558389</th>\n",
              "      <td>22301187</td>\n",
              "      <td>2024-04-14</td>\n",
              "      <td>2023</td>\n",
              "      <td>2</td>\n",
              "      <td>1631121</td>\n",
              "      <td>Bryce McGowens</td>\n",
              "      <td>1610612766</td>\n",
              "      <td>CHA</td>\n",
              "      <td>charlotte hornets</td>\n",
              "      <td>1610612739</td>\n",
              "      <td>...</td>\n",
              "      <td>8</td>\n",
              "      <td>3</td>\n",
              "      <td>13</td>\n",
              "      <td>2</td>\n",
              "      <td>9</td>\n",
              "      <td>94</td>\n",
              "      <td>117</td>\n",
              "      <td>100</td>\n",
              "      <td>0</td>\n",
              "      <td>117</td>\n",
              "    </tr>\n",
              "  </tbody>\n",
              "</table>\n",
              "<p>3558390 rows × 100 columns</p>\n",
              "</div>"
            ],
            "text/plain": [
              "         nbagameid_player gamedate_player  season_player  gametype_player  \\\n",
              "0                22300184      2023-11-12           2023                2   \n",
              "1                22300184      2023-11-12           2023                2   \n",
              "2                22300184      2023-11-12           2023                2   \n",
              "3                22300184      2023-11-12           2023                2   \n",
              "4                22300184      2023-11-12           2023                2   \n",
              "...                   ...             ...            ...              ...   \n",
              "3558385          22301187      2024-04-14           2023                2   \n",
              "3558386          22301187      2024-04-14           2023                2   \n",
              "3558387          22301187      2024-04-14           2023                2   \n",
              "3558388          22301187      2024-04-14           2023                2   \n",
              "3558389          22301187      2024-04-14           2023                2   \n",
              "\n",
              "         nbapersonid      player_name   nbateamid team          team_name  \\\n",
              "0            1626196  Josh Richardson  1610612748  MIA         miami heat   \n",
              "1            1626196  Josh Richardson  1610612748  MIA         miami heat   \n",
              "2            1626196  Josh Richardson  1610612748  MIA         miami heat   \n",
              "3            1626196  Josh Richardson  1610612748  MIA         miami heat   \n",
              "4            1626196  Josh Richardson  1610612748  MIA         miami heat   \n",
              "...              ...              ...         ...  ...                ...   \n",
              "3558385      1631121   Bryce McGowens  1610612766  CHA  charlotte hornets   \n",
              "3558386      1631121   Bryce McGowens  1610612766  CHA  charlotte hornets   \n",
              "3558387      1631121   Bryce McGowens  1610612766  CHA  charlotte hornets   \n",
              "3558388      1631121   Bryce McGowens  1610612766  CHA  charlotte hornets   \n",
              "3558389      1631121   Bryce McGowens  1610612766  CHA  charlotte hornets   \n",
              "\n",
              "         opposingnbateamid  ... turnovers_team blocksagainst_team  \\\n",
              "0               1610612759  ...             21                  4   \n",
              "1               1610612759  ...              7                 13   \n",
              "2               1610612759  ...             17                  8   \n",
              "3               1610612759  ...             10                  3   \n",
              "4               1610612759  ...              7                  8   \n",
              "...                    ...  ...            ...                ...   \n",
              "3558385         1610612739  ...             17                  6   \n",
              "3558386         1610612739  ...              7                 11   \n",
              "3558387         1610612739  ...             13                  6   \n",
              "3558388         1610612739  ...             19                  7   \n",
              "3558389         1610612739  ...              8                  3   \n",
              "\n",
              "         defensivefouls_team  offensivefouls_team  shootingfoulsdrawn_team  \\\n",
              "0                         15                    5                        8   \n",
              "1                         21                    2                       11   \n",
              "2                         20                    1                       10   \n",
              "3                         17                    0                       12   \n",
              "4                         13                    1                        6   \n",
              "...                      ...                  ...                      ...   \n",
              "3558385                   14                    3                        7   \n",
              "3558386                   17                    0                        7   \n",
              "3558387                   19                    2                        8   \n",
              "3558388                   11                    4                        6   \n",
              "3558389                   13                    2                        9   \n",
              "\n",
              "         possessions  points_team  shotattempts_team  andones_team  \\\n",
              "0                100          121                 86             2   \n",
              "1                 95          103                101             2   \n",
              "2                 90           99                 89             4   \n",
              "3                 95          115                 93             3   \n",
              "4                 96          112                 94             1   \n",
              "...              ...          ...                ...           ...   \n",
              "3558385          104          106                 97             2   \n",
              "3558386           99          100                104             3   \n",
              "3558387           97          122                 93             4   \n",
              "3558388           97           84                 91             3   \n",
              "3558389           94          117                100             0   \n",
              "\n",
              "         shotattemptpoints_team  \n",
              "0                           121  \n",
              "1                            97  \n",
              "2                            94  \n",
              "3                           113  \n",
              "4                           106  \n",
              "...                         ...  \n",
              "3558385                     104  \n",
              "3558386                      96  \n",
              "3558387                     114  \n",
              "3558388                      82  \n",
              "3558389                     117  \n",
              "\n",
              "[3558390 rows x 100 columns]"
            ]
          },
          "execution_count": 127,
          "metadata": {},
          "output_type": "execute_result"
        }
      ],
      "source": [
        "# merge player and team game data on 'nbagameid' and 'nbateamid'\n",
        "merged_game_data = pd.merge(\n",
        "    player_game_data, team_game_data,\n",
        "    left_on='nbateamid', right_on='offensivenbateamid',\n",
        "    suffixes=('_player', '_team')\n",
        ")\n",
        "merged_game_data"
      ]
    },
    {
      "cell_type": "code",
      "execution_count": 128,
      "id": "4291db38-cb7f-4bfb-b8d2-5bc49da7790e",
      "metadata": {
        "id": "4291db38-cb7f-4bfb-b8d2-5bc49da7790e"
      },
      "outputs": [],
      "source": [
        "# merge with contract data on 'team_name' and 'season'\n",
        "chunk_size = 5000  # memory limit\n",
        "merged_chunks = []\n",
        "\n",
        "for i in range(0, len(merged_game_data), chunk_size):\n",
        "    merged_chunk = pd.merge(\n",
        "        merged_game_data.iloc[i:i+chunk_size], team_payroll,\n",
        "        left_on=['team_name', 'season_player'],\n",
        "        right_on=['team', 'year'],\n",
        "        how='left'\n",
        "    )\n",
        "    merged_chunks.append(merged_chunk)\n",
        "\n",
        "# concatenate all chunks into a single DataFrame\n",
        "merged_data = pd.concat(merged_chunks)"
      ]
    },
    {
      "cell_type": "code",
      "execution_count": 129,
      "id": "2b60a6db-03d5-48d8-b5ac-372be1edd44b",
      "metadata": {
        "id": "2b60a6db-03d5-48d8-b5ac-372be1edd44b",
        "outputId": "9799d4bb-5366-4376-f881-9b11049a8440"
      },
      "outputs": [
        {
          "name": "stdout",
          "output_type": "stream",
          "text": [
            "   nbagameid_player gamedate_player  season_player  gametype_player  \\\n",
            "0          22300184      2023-11-12           2023                2   \n",
            "1          22300184      2023-11-12           2023                2   \n",
            "2          22300184      2023-11-12           2023                2   \n",
            "3          22300184      2023-11-12           2023                2   \n",
            "4          22300184      2023-11-12           2023                2   \n",
            "\n",
            "   nbapersonid      player_name   nbateamid team_x   team_name  \\\n",
            "0      1626196  Josh Richardson  1610612748    MIA  miami heat   \n",
            "1      1626196  Josh Richardson  1610612748    MIA  miami heat   \n",
            "2      1626196  Josh Richardson  1610612748    MIA  miami heat   \n",
            "3      1626196  Josh Richardson  1610612748    MIA  miami heat   \n",
            "4      1626196  Josh Richardson  1610612748    MIA  miami heat   \n",
            "\n",
            "   opposingnbateamid  ... offensivefouls_team shootingfoulsdrawn_team  \\\n",
            "0         1610612759  ...                   5                       8   \n",
            "1         1610612759  ...                   2                      11   \n",
            "2         1610612759  ...                   1                      10   \n",
            "3         1610612759  ...                   0                      12   \n",
            "4         1610612759  ...                   1                       6   \n",
            "\n",
            "   possessions  points_team  shotattempts_team  andones_team  \\\n",
            "0          100          121                 86             2   \n",
            "1           95          103                101             2   \n",
            "2           90           99                 89             4   \n",
            "3           95          115                 93             3   \n",
            "4           96          112                 94             1   \n",
            "\n",
            "   shotattemptpoints_team      team_y  year  total_team_payroll  \n",
            "0                     121  miami heat  2023         172894063.0  \n",
            "1                      97  miami heat  2023         172894063.0  \n",
            "2                      94  miami heat  2023         172894063.0  \n",
            "3                     113  miami heat  2023         172894063.0  \n",
            "4                     106  miami heat  2023         172894063.0  \n",
            "\n",
            "[5 rows x 103 columns]\n"
          ]
        }
      ],
      "source": [
        "# inspect the merged data\n",
        "print(merged_data.head())"
      ]
    },
    {
      "cell_type": "code",
      "execution_count": 130,
      "id": "7b82ed99-81b8-4125-83dc-25b99ad56d7f",
      "metadata": {
        "id": "7b82ed99-81b8-4125-83dc-25b99ad56d7f",
        "outputId": "df2459fe-a861-41b7-b27d-e8c44c31fe5b"
      },
      "outputs": [
        {
          "name": "stdout",
          "output_type": "stream",
          "text": [
            "Intercept: 124793.05666719201\n",
            "Coefficient for Payroll: -4.725401966841712e-05\n"
          ]
        }
      ],
      "source": [
        "# calculate wins for each game\n",
        "merged_data['win'] = (merged_data['points_team'] > merged_data['opponentteampoints']).astype(int)\n",
        "\n",
        "# aggregate total wins and average payroll by team and season\n",
        "team_performance = merged_data.groupby(['team_name', 'season_player']).agg({\n",
        "    'win': 'sum',  # Total wins\n",
        "    'total_team_payroll': 'mean'  # Average team payroll\n",
        "}).reset_index()\n",
        "\n",
        "# prepare features (payroll) and target (wins)\n",
        "X = team_performance[['total_team_payroll']]  # Feature\n",
        "y = team_performance['win']  # Target\n",
        "\n",
        "# Linear Regression model\n",
        "from sklearn.linear_model import LinearRegression\n",
        "\n",
        "lin_reg = LinearRegression()\n",
        "\n",
        "lin_reg.fit(X, y)\n",
        "\n",
        "print(f\"Intercept: {lin_reg.intercept_}\")\n",
        "print(f\"Coefficient for Payroll: {lin_reg.coef_[0]}\")"
      ]
    },
    {
      "cell_type": "code",
      "execution_count": 131,
      "id": "8e43f536-ceff-4985-a7d2-e0488b898457",
      "metadata": {
        "id": "8e43f536-ceff-4985-a7d2-e0488b898457",
        "outputId": "58ce18d8-65ea-4d70-8fdb-19ab0fe50092"
      },
      "outputs": [
        {
          "name": "stdout",
          "output_type": "stream",
          "text": [
            "Intercept: 124793.05666719201\n",
            "Coefficient for Payroll (in millions): -47.254019668417136\n"
          ]
        }
      ],
      "source": [
        "# scale the payroll by dividing it by 1 million (in millions of dollars)\n",
        "team_performance['total_team_payroll_millions'] = team_performance['total_team_payroll'] / 1_000_000\n",
        "\n",
        "# prepare features (scaled payroll) and target (wins)\n",
        "X = team_performance[['total_team_payroll_millions']]  # feature\n",
        "y = team_performance['win']  # target\n",
        "\n",
        "# re-run the model\n",
        "lin_reg = LinearRegression()\n",
        "lin_reg.fit(X, y)\n",
        "\n",
        "print(f\"Intercept: {lin_reg.intercept_}\")\n",
        "print(f\"Coefficient for Payroll (in millions): {lin_reg.coef_[0]}\")"
      ]
    },
    {
      "cell_type": "code",
      "execution_count": 132,
      "id": "4d0d08c9-aefa-4fcb-93bb-d8bd3fa4c554",
      "metadata": {
        "id": "4d0d08c9-aefa-4fcb-93bb-d8bd3fa4c554",
        "outputId": "1208a462-5158-45e0-fdf7-9aa1f0091299"
      },
      "outputs": [
        {
          "name": "stdout",
          "output_type": "stream",
          "text": [
            "count        30.000000\n",
            "mean     117635.633333\n",
            "std        2981.241601\n",
            "min      112955.000000\n",
            "25%      115457.000000\n",
            "50%      117931.500000\n",
            "75%      119462.000000\n",
            "max      127692.000000\n",
            "Name: win, dtype: float64\n",
            "count     30.000000\n",
            "mean     151.466973\n",
            "std       29.388172\n",
            "min       84.251419\n",
            "25%      133.144965\n",
            "50%      158.974573\n",
            "75%      167.206227\n",
            "max      206.814776\n",
            "Name: total_team_payroll_millions, dtype: float64\n"
          ]
        }
      ],
      "source": [
        "# calculate whether the team won the game, 1 if points_team > opponentteampoints, 0 otherwise\n",
        "merged_data['win'] = (merged_data['points_team'] > merged_data['opponentteampoints']).astype(int)\n",
        "\n",
        "# aggregate total wins and average payroll by team and season\n",
        "# sum the 'win' column for total wins and average payroll for the team across the season\n",
        "team_performance = merged_data.groupby(['team_name', 'season_player']).agg({\n",
        "    'win': 'sum',  # sum of wins per season\n",
        "    'total_team_payroll': 'mean'  # average payroll\n",
        "}).reset_index()\n",
        "\n",
        "# create the 'total_team_payroll_millions' column\n",
        "team_performance['total_team_payroll_millions'] = team_performance['total_team_payroll'] / 1_000_000\n",
        "\n",
        "print(team_performance['win'].describe())\n",
        "print(team_performance['total_team_payroll_millions'].describe())\n"
      ]
    },
    {
      "cell_type": "code",
      "execution_count": 133,
      "id": "6268ee47-6ba3-4250-9ad7-bb8341319f11",
      "metadata": {
        "id": "6268ee47-6ba3-4250-9ad7-bb8341319f11",
        "outputId": "4372488b-922c-46dc-bb74-ef01cd9738dd"
      },
      "outputs": [
        {
          "name": "stdout",
          "output_type": "stream",
          "text": [
            "    team_name  points_team  opponentteampoints  win\n",
            "0  miami heat          121                  64    1\n",
            "1  miami heat          103                  64    1\n",
            "2  miami heat           99                  64    1\n",
            "3  miami heat          115                  64    1\n",
            "4  miami heat          112                  64    1\n"
          ]
        }
      ],
      "source": [
        "# calculate the win column: 1 if team points are greater than opponent points, otherwise 0\n",
        "merged_data['win'] = (merged_data['points_team'] > merged_data['opponentteampoints']).astype(int)\n",
        "\n",
        "print(merged_data[['team_name', 'points_team', 'opponentteampoints', 'win']].head())\n"
      ]
    },
    {
      "cell_type": "code",
      "execution_count": 134,
      "id": "a31ed599-21ad-49c7-8a4c-0ed9ac8e7867",
      "metadata": {
        "id": "a31ed599-21ad-49c7-8a4c-0ed9ac8e7867",
        "outputId": "5305f66e-5756-402c-b1ce-fd883f9e032e"
      },
      "outputs": [
        {
          "name": "stdout",
          "output_type": "stream",
          "text": [
            "count        30.000000\n",
            "mean     117635.633333\n",
            "std        2981.241601\n",
            "min      112955.000000\n",
            "25%      115457.000000\n",
            "50%      117931.500000\n",
            "75%      119462.000000\n",
            "max      127692.000000\n",
            "Name: win, dtype: float64\n",
            "count     30.000000\n",
            "mean     151.466973\n",
            "std       29.388172\n",
            "min       84.251419\n",
            "25%      133.144965\n",
            "50%      158.974573\n",
            "75%      167.206227\n",
            "max      206.814776\n",
            "Name: total_team_payroll_millions, dtype: float64\n"
          ]
        }
      ],
      "source": [
        "team_performance = merged_data.groupby(['team_name', 'season_player']).agg({\n",
        "    'win': 'sum',\n",
        "    'total_team_payroll': 'mean'\n",
        "}).reset_index()\n",
        "\n",
        "team_performance['total_team_payroll_millions'] = team_performance['total_team_payroll'] / 1_000_000\n",
        "\n",
        "print(team_performance['win'].describe())\n",
        "print(team_performance['total_team_payroll_millions'].describe())\n"
      ]
    },
    {
      "cell_type": "code",
      "execution_count": 135,
      "id": "d32a53a5-ecbe-450f-849a-271f694fc0a9",
      "metadata": {
        "id": "d32a53a5-ecbe-450f-849a-271f694fc0a9",
        "outputId": "17dd06ef-7f2f-4e2e-940e-fb6aed3ebfd9"
      },
      "outputs": [
        {
          "name": "stdout",
          "output_type": "stream",
          "text": [
            "     team_name  points_team  opponentteampoints  opposingnbateamid\n",
            "0   miami heat          121                  64         1610612759\n",
            "1   miami heat          103                  64         1610612759\n",
            "2   miami heat           99                  64         1610612759\n",
            "3   miami heat          115                  64         1610612759\n",
            "4   miami heat          112                  64         1610612759\n",
            "5   miami heat           97                  64         1610612759\n",
            "6   miami heat          129                  64         1610612759\n",
            "7   miami heat          115                  64         1610612759\n",
            "8   miami heat           90                  64         1610612759\n",
            "9   miami heat          118                  64         1610612759\n",
            "10  miami heat          108                  64         1610612759\n",
            "11  miami heat          122                  64         1610612759\n",
            "12  miami heat          109                  64         1610612759\n",
            "13  miami heat          118                  64         1610612759\n",
            "14  miami heat          114                  64         1610612759\n",
            "15  miami heat          105                  64         1610612759\n",
            "16  miami heat          111                  64         1610612759\n",
            "17  miami heat          116                  64         1610612759\n",
            "18  miami heat           97                  64         1610612759\n",
            "19  miami heat          117                  64         1610612759\n"
          ]
        }
      ],
      "source": [
        "print(merged_data[['team_name', 'points_team', 'opponentteampoints', 'opposingnbateamid']].head(20))\n"
      ]
    },
    {
      "cell_type": "code",
      "execution_count": 136,
      "id": "a9539e8e-831b-4046-804a-fef310d4d285",
      "metadata": {
        "id": "a9539e8e-831b-4046-804a-fef310d4d285"
      },
      "outputs": [],
      "source": [
        "merged_data_small = merged_data[['nbagameid_player', 'nbateamid', 'points_team', 'opposingnbateamid']]\n"
      ]
    },
    {
      "cell_type": "code",
      "execution_count": 137,
      "id": "277ef3b2-5ffa-445d-ac25-21f7d6d6334d",
      "metadata": {
        "id": "277ef3b2-5ffa-445d-ac25-21f7d6d6334d",
        "outputId": "0c0462ea-040d-4fa4-dcf1-378988ab0bd9"
      },
      "outputs": [
        {
          "name": "stdout",
          "output_type": "stream",
          "text": [
            "    team_name  points_team  opponentteampoints\n",
            "0  miami heat          121                 118\n",
            "1  miami heat          103                 118\n",
            "2  miami heat           99                 118\n",
            "3  miami heat          115                 118\n",
            "4  miami heat          112                 118\n"
          ]
        }
      ],
      "source": [
        "# create a dictionary to map each (game ID, team ID) pair to points_team\n",
        "points_dict = merged_data.set_index(['nbagameid_player', 'nbateamid'])['points_team'].to_dict()\n",
        "\n",
        "# add a more specific check to ensure the opponent's points are correctly matched\n",
        "def get_opponent_points(row):\n",
        "    # lookup the points for the opposing team in the same game\n",
        "    return points_dict.get((row['nbagameid_player'], row['opposingnbateamid']), None)\n",
        "\n",
        "# apply this to each row\n",
        "merged_data['opponentteampoints'] = merged_data.apply(get_opponent_points, axis=1)\n",
        "\n",
        "# check the result\n",
        "print(merged_data[['team_name', 'points_team', 'opponentteampoints']].head())\n"
      ]
    },
    {
      "cell_type": "code",
      "execution_count": 138,
      "id": "778b7e83-8ed6-4b4a-89fa-f92a175ca51c",
      "metadata": {
        "id": "778b7e83-8ed6-4b4a-89fa-f92a175ca51c",
        "outputId": "07c76240-31f4-4370-c92e-d4b856be9490"
      },
      "outputs": [
        {
          "name": "stdout",
          "output_type": "stream",
          "text": [
            "    nbagameid_player   team_name  points_team  opposingnbateamid\n",
            "0           22300184  miami heat          121         1610612759\n",
            "1           22300184  miami heat          103         1610612759\n",
            "2           22300184  miami heat           99         1610612759\n",
            "3           22300184  miami heat          115         1610612759\n",
            "4           22300184  miami heat          112         1610612759\n",
            "5           22300184  miami heat           97         1610612759\n",
            "6           22300184  miami heat          129         1610612759\n",
            "7           22300184  miami heat          115         1610612759\n",
            "8           22300184  miami heat           90         1610612759\n",
            "9           22300184  miami heat          118         1610612759\n",
            "10          22300184  miami heat          108         1610612759\n",
            "11          22300184  miami heat          122         1610612759\n",
            "12          22300184  miami heat          109         1610612759\n",
            "13          22300184  miami heat          118         1610612759\n",
            "14          22300184  miami heat          114         1610612759\n",
            "15          22300184  miami heat          105         1610612759\n",
            "16          22300184  miami heat          111         1610612759\n",
            "17          22300184  miami heat          116         1610612759\n",
            "18          22300184  miami heat           97         1610612759\n",
            "19          22300184  miami heat          117         1610612759\n"
          ]
        }
      ],
      "source": [
        "print(merged_data[['nbagameid_player', 'team_name', 'points_team', 'opposingnbateamid']].head(20))\n"
      ]
    },
    {
      "cell_type": "code",
      "execution_count": 139,
      "id": "eb6f1b33-fee1-477f-9934-35974c5e271a",
      "metadata": {
        "id": "eb6f1b33-fee1-477f-9934-35974c5e271a",
        "outputId": "0c25858d-54d3-47ec-c673-d186cd953039"
      },
      "outputs": [
        {
          "name": "stdout",
          "output_type": "stream",
          "text": [
            "Number of duplicate game/team combinations: 3555930\n"
          ]
        }
      ],
      "source": [
        "# check for duplicate game/team combinations\n",
        "duplicates = merged_data[['nbagameid_player', 'nbateamid']].duplicated().sum()\n",
        "print(f\"Number of duplicate game/team combinations: {duplicates}\")\n"
      ]
    },
    {
      "cell_type": "code",
      "execution_count": 140,
      "id": "3eb9b95f-5307-41b6-8d74-eea0e5227676",
      "metadata": {
        "id": "3eb9b95f-5307-41b6-8d74-eea0e5227676",
        "outputId": "91bba213-7170-4628-84a9-7b0354b19210"
      },
      "outputs": [
        {
          "name": "stdout",
          "output_type": "stream",
          "text": [
            "   nbagameid_player   nbateamid  points_team  opposingnbateamid\n",
            "0          22300001  1610612739       157012         1610612754\n",
            "1          22300001  1610612754       181980         1610612739\n",
            "2          22300002  1610612749       175608         1610612752\n",
            "3          22300002  1610612752       166482         1610612749\n",
            "4          22300003  1610612748       153544         1610612764\n"
          ]
        }
      ],
      "source": [
        "# aggregate by team and game to remove duplicates (one row per team per game)\n",
        "team_game_data = merged_data.groupby(['nbagameid_player', 'nbateamid']).agg({\n",
        "    'points_team': 'sum',\n",
        "    'opposingnbateamid': 'first'\n",
        "}).reset_index()\n",
        "\n",
        "print(team_game_data.head())\n"
      ]
    },
    {
      "cell_type": "code",
      "execution_count": 141,
      "id": "a56941f5-f0f7-4f6e-9a63-ad4ae77b0754",
      "metadata": {
        "id": "a56941f5-f0f7-4f6e-9a63-ad4ae77b0754",
        "outputId": "1d8d9c13-bca4-4f87-eb8d-de66f1d1d74a"
      },
      "outputs": [
        {
          "name": "stdout",
          "output_type": "stream",
          "text": [
            "   nbagameid_player   nbateamid  points_team  opponentteampoints\n",
            "0          22300001  1610612739       157012              181980\n",
            "1          22300001  1610612754       181980              157012\n",
            "2          22300002  1610612749       175608              166482\n",
            "3          22300002  1610612752       166482              175608\n",
            "4          22300003  1610612748       153544              167886\n"
          ]
        }
      ],
      "source": [
        "# create a dictionary for points lookup\n",
        "points_dict = team_game_data.set_index(['nbagameid_player', 'nbateamid'])['points_team'].to_dict()\n",
        "\n",
        "# use the dictionary to lookup opponent points for each game/team row\n",
        "team_game_data['opponentteampoints'] = team_game_data.apply(\n",
        "    lambda row: points_dict.get((row['nbagameid_player'], row['opposingnbateamid']), None), axis=1\n",
        ")\n",
        "\n",
        "print(team_game_data[['nbagameid_player', 'nbateamid', 'points_team', 'opponentteampoints']].head())\n"
      ]
    },
    {
      "cell_type": "code",
      "execution_count": 142,
      "id": "abcabda2-74a8-4975-ac1a-7edac79526bb",
      "metadata": {
        "id": "abcabda2-74a8-4975-ac1a-7edac79526bb",
        "outputId": "12d174c9-09db-40ba-c304-31410785c827"
      },
      "outputs": [
        {
          "name": "stdout",
          "output_type": "stream",
          "text": [
            "   nbagameid_player   nbateamid  points_team  opponentteampoints  win\n",
            "0          22300001  1610612739       157012              181980    0\n",
            "1          22300001  1610612754       181980              157012    1\n",
            "2          22300002  1610612749       175608              166482    1\n",
            "3          22300002  1610612752       166482              175608    0\n",
            "4          22300003  1610612748       153544              167886    0\n"
          ]
        }
      ],
      "source": [
        "# calculate wins\n",
        "team_game_data['win'] = (team_game_data['points_team'] > team_game_data['opponentteampoints']).astype(int)\n",
        "\n",
        "print(team_game_data[['nbagameid_player', 'nbateamid', 'points_team', 'opponentteampoints', 'win']].head())\n"
      ]
    },
    {
      "cell_type": "code",
      "execution_count": 143,
      "id": "88b332dc-0209-4969-9217-5c8291610a80",
      "metadata": {
        "id": "88b332dc-0209-4969-9217-5c8291610a80",
        "outputId": "a3bcc5fe-15ff-4adb-81b2-7796f0f44d37"
      },
      "outputs": [
        {
          "name": "stdout",
          "output_type": "stream",
          "text": [
            "    nbateamid  win    points_team\n",
            "0  1610612737   73  174417.341463\n",
            "1  1610612738   52  167958.426829\n",
            "2  1610612739   24  158138.341463\n",
            "3  1610612740   21  160527.073171\n",
            "4  1610612741   19  160094.585366\n"
          ]
        }
      ],
      "source": [
        "# aggregate total wins by team\n",
        "team_performance = team_game_data.groupby('nbateamid').agg({\n",
        "    'win': 'sum',\n",
        "    'points_team': 'mean'\n",
        "}).reset_index()\n",
        "\n",
        "print(team_performance.head())\n"
      ]
    },
    {
      "cell_type": "code",
      "execution_count": 144,
      "id": "39155d91-7393-46c0-8993-948143953b39",
      "metadata": {
        "id": "39155d91-7393-46c0-8993-948143953b39",
        "outputId": "853daeb4-dbb2-4b78-b382-6ff4ebfa635f"
      },
      "outputs": [
        {
          "name": "stdout",
          "output_type": "stream",
          "text": [
            "    nbateamid             team_name\n",
            "0  1610612737         atlanta hawks\n",
            "1  1610612738        boston celtics\n",
            "2  1610612739   cleveland cavaliers\n",
            "3  1610612740  new orleans pelicans\n",
            "4  1610612741         chicago bulls\n"
          ]
        }
      ],
      "source": [
        "# mapping dictionary\n",
        "team_id_to_name = {\n",
        "    1610612737: 'atlanta hawks',\n",
        "    1610612738: 'boston celtics',\n",
        "    1610612751: 'brooklyn nets',\n",
        "    1610612766: 'charlotte hornets',\n",
        "    1610612741: 'chicago bulls',\n",
        "    1610612739: 'cleveland cavaliers',\n",
        "    1610612742: 'dallas mavericks',\n",
        "    1610612743: 'denver nuggets',\n",
        "    1610612765: 'detroit pistons',\n",
        "    1610612744: 'golden state warriors',\n",
        "    1610612745: 'houston rockets',\n",
        "    1610612754: 'indiana pacers',\n",
        "    1610612746: 'la clippers',\n",
        "    1610612747: 'los angeles lakers',\n",
        "    1610612763: 'memphis grizzlies',\n",
        "    1610612748: 'miami heat',\n",
        "    1610612749: 'milwaukee bucks',\n",
        "    1610612750: 'minnesota timberwolves',\n",
        "    1610612740: 'new orleans pelicans',\n",
        "    1610612752: 'new york knicks',\n",
        "    1610612760: 'oklahoma city thunder',\n",
        "    1610612753: 'orlando magic',\n",
        "    1610612755: 'philadelphia 76ers',\n",
        "    1610612756: 'phoenix suns',\n",
        "    1610612757: 'portland trail blazers',\n",
        "    1610612758: 'sacramento kings',\n",
        "    1610612759: 'san antonio spurs',\n",
        "    1610612761: 'toronto raptors',\n",
        "    1610612762: 'utah jazz',\n",
        "    1610612764: 'washington wizards'\n",
        "}\n",
        "\n",
        "# map the team IDs in team_performance to team names\n",
        "team_performance['team_name'] = team_performance['nbateamid'].map(team_id_to_name)\n",
        "\n",
        "print(team_performance[['nbateamid', 'team_name']].head())\n"
      ]
    },
    {
      "cell_type": "code",
      "execution_count": 145,
      "id": "5b0da671-8387-4797-b8b8-6fe25c2b848b",
      "metadata": {
        "id": "5b0da671-8387-4797-b8b8-6fe25c2b848b",
        "outputId": "fa910f71-5d07-4ab6-f471-7767094c1281"
      },
      "outputs": [
        {
          "name": "stdout",
          "output_type": "stream",
          "text": [
            "    nbateamid  win    points_team      team_name           team  year  \\\n",
            "0  1610612737   73  174417.341463  atlanta hawks  atlanta hawks  2011   \n",
            "1  1610612737   73  174417.341463  atlanta hawks  atlanta hawks  2012   \n",
            "2  1610612737   73  174417.341463  atlanta hawks  atlanta hawks  2013   \n",
            "3  1610612737   73  174417.341463  atlanta hawks  atlanta hawks  2014   \n",
            "4  1610612737   73  174417.341463  atlanta hawks  atlanta hawks  2015   \n",
            "\n",
            "   total_team_payroll  \n",
            "0          71453928.0  \n",
            "1          63620146.0  \n",
            "2          55517146.0  \n",
            "3          57245276.0  \n",
            "4          71332945.0  \n"
          ]
        }
      ],
      "source": [
        "# merge using 'team_name' after mapping team IDs\n",
        "team_performance = pd.merge(\n",
        "    team_performance,\n",
        "    team_payroll,\n",
        "    left_on='team_name',\n",
        "    right_on='team',\n",
        "    how='left'\n",
        ")\n",
        "\n",
        "print(team_performance.head())\n"
      ]
    },
    {
      "cell_type": "code",
      "execution_count": 146,
      "id": "98e668a1-2570-4b83-93d8-ae833b538276",
      "metadata": {
        "id": "98e668a1-2570-4b83-93d8-ae833b538276",
        "outputId": "5a6bfcf3-4b06-4f8c-d7ea-5324953baaf4"
      },
      "outputs": [
        {
          "name": "stdout",
          "output_type": "stream",
          "text": [
            "Intercept: 42.63412304208182\n",
            "Coefficient for Payroll: -1.5627827644186576e-08\n"
          ]
        }
      ],
      "source": [
        "from sklearn.linear_model import LinearRegression\n",
        "\n",
        "# prepare the features (payroll) and target (wins)\n",
        "X = team_performance[['total_team_payroll']]\n",
        "y = team_performance['win']\n",
        "\n",
        "lin_reg = LinearRegression()\n",
        "lin_reg.fit(X, y)\n",
        "\n",
        "print(f\"Intercept: {lin_reg.intercept_}\")\n",
        "print(f\"Coefficient for Payroll: {lin_reg.coef_[0]}\")\n",
        "\n",
        "\n",
        "# 42.63 means that when payroll is zero the model predicts 42 wins\n",
        "# which is baseline level of team performance\n",
        "\n",
        "# -1.5627827644186546e-08 very close to zero means an increase in payroll,\n",
        "# has a small impact on winning\n"
      ]
    },
    {
      "cell_type": "code",
      "execution_count": 147,
      "id": "79e96bf8-3678-461a-b711-215b88b03104",
      "metadata": {
        "id": "79e96bf8-3678-461a-b711-215b88b03104",
        "outputId": "c6af748e-2b7b-4cb0-e71c-8a80a724013d"
      },
      "outputs": [
        {
          "name": "stdout",
          "output_type": "stream",
          "text": [
            "Intercept: 41.02392344497608\n",
            "Coefficient for Scaled Payroll: -0.6189465637437004\n"
          ]
        }
      ],
      "source": [
        "from sklearn.preprocessing import StandardScaler\n",
        "\n",
        "# scale the payroll data\n",
        "scaler = StandardScaler()\n",
        "X_scaled = scaler.fit_transform(team_performance[['total_team_payroll']])\n",
        "\n",
        "# re-run the regression with scaled data\n",
        "lin_reg = LinearRegression()\n",
        "lin_reg.fit(X_scaled, y)\n",
        "\n",
        "print(f\"Intercept: {lin_reg.intercept_}\")\n",
        "print(f\"Coefficient for Scaled Payroll: {lin_reg.coef_[0]}\")\n"
      ]
    },
    {
      "cell_type": "code",
      "execution_count": 148,
      "id": "52e5589d-68a9-459f-a8af-ff08459f0b47",
      "metadata": {
        "id": "52e5589d-68a9-459f-a8af-ff08459f0b47",
        "outputId": "17dc04e3-ce32-420c-885e-36d88468a446"
      },
      "outputs": [
        {
          "name": "stdout",
          "output_type": "stream",
          "text": [
            "Lasso Intercept: 41.02392344497608\n",
            "Lasso Coefficient for Scaled Payroll: -0.6089465637437004\n"
          ]
        }
      ],
      "source": [
        "from sklearn.linear_model import Lasso\n",
        "\n",
        "# run Lasso regression to regularize the model\n",
        "lasso_reg = Lasso(alpha=0.01) # change this to experiment\n",
        "lasso_reg.fit(X_scaled, y)\n",
        "\n",
        "print(f\"Lasso Intercept: {lasso_reg.intercept_}\")\n",
        "print(f\"Lasso Coefficient for Scaled Payroll: {lasso_reg.coef_[0]}\")\n",
        "\n",
        "\n",
        "# scaled payroll 41 is at average, so average payroll tend to perfrom around average\n",
        "# -0.61 increasing payroll might associate with slight decrease in wins or\n",
        "# overpayment for players\n",
        "# or team chemistry/coaching/injuries/performance"
      ]
    },
    {
      "cell_type": "code",
      "execution_count": 149,
      "id": "a9b2f5c6-1146-407c-8de8-ef89e91ecac0",
      "metadata": {
        "id": "a9b2f5c6-1146-407c-8de8-ef89e91ecac0",
        "outputId": "9f2467d2-e42a-4702-e794-17d64d663a5f"
      },
      "outputs": [
        {
          "name": "stdout",
          "output_type": "stream",
          "text": [
            "                 team_name  win  total_team_payroll  wins_per_million\n",
            "236         indiana pacers   78          44413746.0          1.756213\n",
            "292       sacramento kings   59          36583409.0          1.612753\n",
            "330  oklahoma city thunder   76          47135212.0          1.612383\n",
            "252     philadelphia 76ers   41          27287899.0          1.502497\n",
            "320  oklahoma city thunder   76          56856253.0          1.336704\n"
          ]
        }
      ],
      "source": [
        "# calculate wins per million dollars spent (check the top teams in terms of cost-efficiency)\n",
        "team_performance['wins_per_million'] = team_performance['win'] / (team_performance['total_team_payroll'] / 1_000_000)\n",
        "\n",
        "print(team_performance[['team_name', 'win', 'total_team_payroll', 'wins_per_million']].sort_values(by='wins_per_million', ascending=False).head())\n",
        "\n",
        "# top team in wins per million:\n",
        "# teams that managed to get high win counts relative to payroll\n",
        "# OKC has high payroll with efficient performance but diminishing rate"
      ]
    },
    {
      "cell_type": "code",
      "execution_count": 150,
      "id": "2e6b7a8a-3b55-41fa-80f0-e4af6966f31d",
      "metadata": {
        "id": "2e6b7a8a-3b55-41fa-80f0-e4af6966f31d",
        "outputId": "f50c60d9-d7ec-4821-d691-0f25ec753fc2"
      },
      "outputs": [
        {
          "name": "stdout",
          "output_type": "stream",
          "text": [
            "                  team_name  win  total_team_payroll  wins_per_million\n",
            "291  portland trail blazers    5         165518581.0          0.030208\n",
            "290  portland trail blazers    5         157605999.0          0.031725\n",
            "289  portland trail blazers    5         136161044.0          0.036721\n",
            "286  portland trail blazers    5         132112637.0          0.037846\n",
            "285  portland trail blazers    5         128004910.0          0.039061\n"
          ]
        }
      ],
      "source": [
        "# identify the least cost-efficient teams\n",
        "least_efficient_teams = team_performance[['team_name', 'win', 'total_team_payroll', 'wins_per_million']].sort_values(by='wins_per_million', ascending=True).head()\n",
        "print(least_efficient_teams)\n"
      ]
    },
    {
      "cell_type": "code",
      "execution_count": 151,
      "id": "fd8f4dca-c6b3-4a1f-b919-df39bca0fd6b",
      "metadata": {
        "id": "fd8f4dca-c6b3-4a1f-b919-df39bca0fd6b",
        "outputId": "2e7ad32c-7b77-4152-c558-ce69efcff1f1"
      },
      "outputs": [
        {
          "name": "stdout",
          "output_type": "stream",
          "text": [
            "                 team_name  wins_per_million\n",
            "11          indiana pacers          0.902728\n",
            "20   oklahoma city thunder          0.899004\n",
            "0            atlanta hawks          0.878052\n",
            "6         dallas mavericks          0.765678\n",
            "25        sacramento kings          0.735712\n",
            "28               utah jazz          0.723553\n",
            "7           denver nuggets          0.679123\n",
            "16         milwaukee bucks          0.668336\n",
            "10         houston rockets          0.652329\n",
            "22      philadelphia 76ers          0.608692\n",
            "1           boston celtics          0.540059\n",
            "12             la clippers          0.504813\n",
            "23            phoenix suns          0.475267\n",
            "13      los angeles lakers          0.469082\n",
            "29      washington wizards          0.461521\n",
            "14       memphis grizzlies          0.454889\n",
            "21           orlando magic          0.440606\n",
            "19         new york knicks          0.426251\n",
            "26       san antonio spurs          0.425080\n",
            "27         toronto raptors          0.367794\n",
            "9    golden state warriors          0.299929\n",
            "5      cleveland cavaliers          0.253732\n",
            "2            brooklyn nets          0.252849\n",
            "8          detroit pistons          0.239614\n",
            "3        charlotte hornets          0.238749\n",
            "18    new orleans pelicans          0.232188\n",
            "4            chicago bulls          0.202383\n",
            "17  minnesota timberwolves          0.124923\n",
            "15              miami heat          0.114328\n",
            "24  portland trail blazers          0.056166\n"
          ]
        }
      ],
      "source": [
        "# calculate average wins per million for each team over time\n",
        "team_avg_efficiency = team_performance.groupby('team_name')['wins_per_million'].mean().reset_index()\n",
        "print(team_avg_efficiency.sort_values(by='wins_per_million', ascending=False))\n",
        "\n",
        "# most cost efficient teams"
      ]
    },
    {
      "cell_type": "code",
      "execution_count": 152,
      "id": "e13eab65-dde8-44ae-96fe-0dabab22217d",
      "metadata": {
        "id": "e13eab65-dde8-44ae-96fe-0dabab22217d",
        "outputId": "4005ac3f-704e-4ace-a659-714f3820782b"
      },
      "outputs": [
        {
          "name": "stdout",
          "output_type": "stream",
          "text": [
            "       team_name  win  previous_win  total_team_payroll  payroll_change  \\\n",
            "1  atlanta hawks   73          73.0          63620146.0      -7833782.0   \n",
            "2  atlanta hawks   73          73.0          55517146.0      -8103000.0   \n",
            "3  atlanta hawks   73          73.0          57245276.0       1728130.0   \n",
            "4  atlanta hawks   73          73.0          71332945.0      14087669.0   \n",
            "5  atlanta hawks   73          73.0          92928845.0      21595900.0   \n",
            "\n",
            "   wins_per_million  future_wins_per_million  \n",
            "1          1.147435                 1.314909  \n",
            "2          1.314909                 1.275214  \n",
            "3          1.275214                 1.023370  \n",
            "4          1.023370                 0.785547  \n",
            "5          0.785547                 1.082668  \n"
          ]
        }
      ],
      "source": [
        "# create lag features for wins and payroll (shift by 1 year)\n",
        "team_performance['previous_win'] = team_performance.groupby('team_name')['win'].shift(1)\n",
        "team_performance['previous_payroll'] = team_performance.groupby('team_name')['total_team_payroll'].shift(1)\n",
        "team_performance['payroll_change'] = team_performance['total_team_payroll'] - team_performance['previous_payroll']\n",
        "\n",
        "# drop rows with missing lag features\n",
        "team_performance.dropna(subset=['previous_win', 'previous_payroll'], inplace=True)\n",
        "\n",
        "# create the target variable for prediction\n",
        "team_performance['future_wins_per_million'] = team_performance.groupby('team_name')['wins_per_million'].shift(-1)\n",
        "\n",
        "# drop rows where the target is missing\n",
        "team_performance.dropna(subset=['future_wins_per_million'], inplace=True)\n",
        "\n",
        "print(team_performance[['team_name', 'win', 'previous_win', 'total_team_payroll', 'payroll_change', 'wins_per_million', 'future_wins_per_million']].head())\n"
      ]
    },
    {
      "cell_type": "code",
      "execution_count": 153,
      "id": "7c42d117-d7ed-4518-87c8-ca7a9f00e773",
      "metadata": {
        "id": "7c42d117-d7ed-4518-87c8-ca7a9f00e773",
        "outputId": "20d19cf2-3c57-470c-8071-06dd3346a160"
      },
      "outputs": [
        {
          "name": "stdout",
          "output_type": "stream",
          "text": [
            "Training set size: 286\n",
            "Test set size: 72\n"
          ]
        }
      ],
      "source": [
        "from sklearn.model_selection import train_test_split\n",
        "\n",
        "# features and target variable\n",
        "features = ['previous_win', 'previous_payroll', 'payroll_change', 'wins_per_million']\n",
        "target = 'future_wins_per_million'\n",
        "\n",
        "# split the data into training and test sets\n",
        "X = team_performance[features]\n",
        "y = team_performance[target]\n",
        "\n",
        "X_train, X_test, y_train, y_test = train_test_split(X, y, test_size=0.2, random_state=42)\n",
        "\n",
        "print(f\"Training set size: {X_train.shape[0]}\")\n",
        "print(f\"Test set size: {X_test.shape[0]}\")\n"
      ]
    },
    {
      "cell_type": "code",
      "execution_count": 154,
      "id": "73b8d30c-c964-4148-822c-343373ed5b3b",
      "metadata": {
        "id": "73b8d30c-c964-4148-822c-343373ed5b3b",
        "outputId": "5ff40225-55d9-4056-898f-fd84340582b6"
      },
      "outputs": [
        {
          "name": "stdout",
          "output_type": "stream",
          "text": [
            "Mean Squared Error on the test set: 0.007208422679387856\n",
            "Intercept: 0.08141137743587301\n",
            "Coefficients: [ 3.66509748e-03 -8.02814319e-10 -1.24021459e-09  6.21712131e-01]\n"
          ]
        }
      ],
      "source": [
        "from sklearn.linear_model import LinearRegression\n",
        "from sklearn.metrics import mean_squared_error\n",
        "\n",
        "# train a linear regression model\n",
        "reg_model = LinearRegression()\n",
        "reg_model.fit(X_train, y_train)\n",
        "\n",
        "# predict on the test set\n",
        "y_pred = reg_model.predict(X_test)\n",
        "\n",
        "# evaluate the model\n",
        "mse = mean_squared_error(y_test, y_pred)\n",
        "print(f\"Mean Squared Error on the test set: {mse}\")\n",
        "\n",
        "print(f\"Intercept: {reg_model.intercept_}\")\n",
        "print(f\"Coefficients: {reg_model.coef_}\")\n",
        "\n",
        "\n",
        "# MSE 0.0072 mean model is relatively accuracte\n",
        "# Coefficients:\n",
        "# previous wins (0.0037): positive impact, wins in previous season slightly improve cost-efficiency\n",
        "# previous payroll (-8.028e-10): minimal impact\n",
        "# payroll change: minimal impact\n",
        "# wins per million (0.6217): is significant, past wins per million is a strong predictor\n",
        "# for future wins per million dollars spent"
      ]
    },
    {
      "cell_type": "code",
      "execution_count": 155,
      "id": "acc74bf3-29ee-4585-91a8-d2470ba97154",
      "metadata": {
        "id": "acc74bf3-29ee-4585-91a8-d2470ba97154",
        "outputId": "785f6a78-3081-4642-f1c2-d2f10043c5a0"
      },
      "outputs": [
        {
          "name": "stdout",
          "output_type": "stream",
          "text": [
            "     predicted_wins_per_million  actual_wins_per_million\n",
            "260                    0.290434                 0.274860\n",
            "49                     0.218672                 0.178532\n",
            "304                    0.429170                 0.351943\n",
            "352                    0.821052                 0.735448\n",
            "65                     0.133515                 0.143036\n"
          ]
        }
      ],
      "source": [
        "# use the trained model to predict future wins per million for a specific season\n",
        "predicted_efficiency = reg_model.predict(X_test)\n",
        "\n",
        "# add the predictions back to the dataset for comparison\n",
        "team_performance_test = X_test.copy()\n",
        "team_performance_test['predicted_wins_per_million'] = predicted_efficiency\n",
        "team_performance_test['actual_wins_per_million'] = y_test\n",
        "\n",
        "# compare actual and predicted\n",
        "print(team_performance_test[['predicted_wins_per_million', 'actual_wins_per_million']].head())\n",
        "\n",
        "# model's predicted values for future wins per million\n",
        "# are somewhat close to the actual values\n",
        "# it is able to capture some cost-efficiency across seasons"
      ]
    },
    {
      "cell_type": "code",
      "execution_count": null,
      "id": "15498e84-2594-4191-88fe-f8d52673cf1d",
      "metadata": {
        "id": "15498e84-2594-4191-88fe-f8d52673cf1d"
      },
      "outputs": [],
      "source": []
    }
  ],
  "metadata": {
    "colab": {
      "provenance": []
    },
    "kernelspec": {
      "display_name": "Python 3 (ipykernel)",
      "language": "python",
      "name": "python3"
    },
    "language_info": {
      "codemirror_mode": {
        "name": "ipython",
        "version": 3
      },
      "file_extension": ".py",
      "mimetype": "text/x-python",
      "name": "python",
      "nbconvert_exporter": "python",
      "pygments_lexer": "ipython3",
      "version": "3.9.6"
    }
  },
  "nbformat": 4,
  "nbformat_minor": 5
}
